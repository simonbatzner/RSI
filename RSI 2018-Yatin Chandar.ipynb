{
 "cells": [
  {
   "cell_type": "code",
   "execution_count": 143,
   "metadata": {},
   "outputs": [],
   "source": [
    "import os\n",
    "import math\n",
    "import numpy as np\n",
    "import matplotlib.pyplot as plt\n",
    "import sklearn"
   ]
  },
  {
   "cell_type": "code",
   "execution_count": 144,
   "metadata": {
    "scrolled": true
   },
   "outputs": [],
   "source": [
    "H2O_pos = '/Users/yatin/Documents/water/structures.xyz'\n",
    "\n",
    "# read and store the separations\n",
    "data_h1y = []\n",
    "data_h1z = []\n",
    "count = 1\n",
    "\n",
    "\n",
    "with open(H2O_pos, 'r') as outf:\n",
    "    for line in outf:\n",
    "        if (count-3) % 5 == 0:\n",
    "            data_h1y.append(float(line.strip()[25:35]))\n",
    "        count +=1\n",
    "        \n",
    "        \n",
    "with open(H2O_pos, 'r') as outf:\n",
    "    for line in outf:\n",
    "        if (count-3) % 5 == 0:\n",
    "            data_h1z.append(float(line.strip()[42:52]))\n",
    "        count +=1\n",
    "        \n",
    "        \n",
    "# convert from Bohr to angstrom\n",
    "#print(np.array(data_seps)) # coordinates were recorded, not separation\n",
    "# data_seps = data_seps / 0.529177"
   ]
  },
  {
   "cell_type": "code",
   "execution_count": 145,
   "metadata": {},
   "outputs": [],
   "source": [
    "H2O_pos = '/Users/yatin/Documents/water/structures.xyz'\n",
    "\n",
    "# read and store the separations\n",
    "data_h2y = []\n",
    "data_h2z = []\n",
    "count = 1\n",
    "\n",
    "\n",
    "with open(H2O_pos, 'r') as outf:\n",
    "    for line in outf:\n",
    "        if (count-4) % 5 == 0:\n",
    "            data_h2y.append(float(line.strip()[24:35]))\n",
    "        count +=1\n",
    "        \n",
    "        \n",
    "with open(H2O_pos, 'r') as outf:\n",
    "    for line in outf:\n",
    "        if (count-4) % 5 == 0:\n",
    "            data_h2z.append(float(line.strip()[42:52]))\n",
    "        count +=1\n",
    "        \n",
    "        \n",
    "# convert from Bohr to angstrom\n",
    "#print(np.array(data_seps)) # coordinates were recorded, not separation\n",
    "# data_seps = data_seps / 0.529177"
   ]
  },
  {
   "cell_type": "code",
   "execution_count": 146,
   "metadata": {},
   "outputs": [],
   "source": [
    "H2O_pos = '/Users/yatin/Documents/water/structures.xyz'\n",
    "\n",
    "# read and store the separations\n",
    "data_oy = []\n",
    "data_oz = []\n",
    "count = 1\n",
    "\n",
    "\n",
    "with open(H2O_pos, 'r') as outf:\n",
    "    for line in outf:\n",
    "        if (count-5) % 5 == 0:\n",
    "            data_oy.append(float(line.strip()[24:35]))\n",
    "        count +=1\n",
    "        \n",
    "        \n",
    "with open(H2O_pos, 'r') as outf:\n",
    "    for line in outf:\n",
    "        if (count-5) % 5 == 0:\n",
    "            data_oz.append(float(line.strip()[42:52]))\n",
    "        count +=1\n",
    "        \n",
    "        \n",
    "# convert from Bohr to angstrom\n",
    "#print(np.array(data_seps)) # coordinates were recorded, not separation\n",
    "# data_seps = data_seps / 0.529177"
   ]
  },
  {
   "cell_type": "code",
   "execution_count": 147,
   "metadata": {},
   "outputs": [],
   "source": [
    "bond_1 = []\n",
    "bond_2 = []\n",
    "side3 = []\n",
    "for loc in range(0, len(data_oy)):\n",
    "    bond_1.append(math.sqrt((data_oy[loc]-data_h1y[loc])**2+(data_oz[loc]-data_h1z[loc])**2))\n",
    "    bond_2.append(math.sqrt((data_oy[loc]-data_h2y[loc])**2+(data_oz[loc]-data_h2z[loc])**2))\n",
    "    side3.append(math.sqrt((data_h2y[loc]-data_h1y[loc])**2+(data_h2z[loc]-data_h1z[loc])**2))"
   ]
  },
  {
   "cell_type": "code",
   "execution_count": 154,
   "metadata": {},
   "outputs": [],
   "source": [
    "angle = []\n",
    "\n",
    "for location in range(0,len(data_oy)):\n",
    "    angle.append(np.arccos((bond_1[location]**2+bond_2[location]**2-side3[location]**2)/(2*bond_1[location]*bond_2[location])))\n"
   ]
  },
  {
   "cell_type": "code",
   "execution_count": 155,
   "metadata": {},
   "outputs": [],
   "source": [
    "dataset = []\n",
    "\n",
    "for i in range (0, len(data_oy)):\n",
    "    l = []\n",
    "    l.append(bond_1[i])\n",
    "    l.append(bond_2[i])\n",
    "    l.append(angle[i])\n",
    "    dataset.append(l)\n"
   ]
  },
  {
   "cell_type": "code",
   "execution_count": 156,
   "metadata": {},
   "outputs": [],
   "source": [
    "X = dataset"
   ]
  },
  {
   "cell_type": "code",
   "execution_count": 161,
   "metadata": {},
   "outputs": [],
   "source": [
    "from sklearn.cluster import KMeans\n",
    "import pandas as pd \n",
    "model = KMeans(n_clusters=10)\n",
    "model.fit(X)\n",
    "y_pred = model.predict(X)"
   ]
  },
  {
   "cell_type": "code",
   "execution_count": 163,
   "metadata": {},
   "outputs": [
    {
     "name": "stdout",
     "output_type": "stream",
     "text": [
      "cluster centers are: \n",
      " [[0.94696678 0.83368153 2.06527494]\n",
      " [0.93992048 0.81751117 1.94728311]\n",
      " [0.97089958 0.92669739 2.17828065]\n",
      " [0.86820632 0.82813871 2.03131126]\n",
      " [0.9629522  0.91237037 2.09235213]\n",
      " [0.9449817  0.90964842 1.99914602]\n",
      " [0.88668316 0.84209297 2.15930378]\n",
      " [0.85469119 0.8106833  1.902594  ]\n",
      " [0.92690733 0.86877401 1.89547928]\n",
      " [0.96639074 0.84096738 2.17379246]]\n"
     ]
    }
   ],
   "source": [
    "print(\"cluster centers are: \\n\", model.cluster_centers_)"
   ]
  },
  {
   "cell_type": "code",
   "execution_count": 172,
   "metadata": {},
   "outputs": [
    {
     "data": {
      "text/plain": [
       "{0: array([  3,   9,  11,  12,  14,  15,  20,  23,  25,  30,  62,  70,  84,\n",
       "         94,  98, 100, 121, 123, 144, 148, 149, 151, 152, 163, 188, 201,\n",
       "        216, 256, 259, 266, 267, 291, 302, 303, 311, 324, 332, 352, 385,\n",
       "        393, 394, 415, 428, 441, 455, 473, 504, 505, 507, 520, 524, 529,\n",
       "        541, 542, 551, 556, 568, 569, 580, 615, 616, 619, 623, 630, 645,\n",
       "        648, 655, 673, 686, 687, 688, 703, 720, 725, 742, 745, 746, 756,\n",
       "        759, 776, 779, 783, 786, 804, 813, 816, 818, 825, 827, 829, 833,\n",
       "        855, 864, 874, 893, 925, 941, 943, 961, 963, 973, 985, 991]),\n",
       " 1: array([  7,  13,  36,  38,  44,  45,  49,  58,  64,  81,  96, 111, 142,\n",
       "        154, 160, 164, 168, 175, 178, 183, 187, 192, 207, 208, 209, 215,\n",
       "        232, 233, 264, 265, 271, 275, 279, 300, 309, 320, 328, 344, 357,\n",
       "        369, 386, 407, 414, 417, 420, 422, 434, 438, 449, 459, 471, 479,\n",
       "        480, 514, 537, 550, 572, 577, 610, 613, 617, 621, 627, 632, 639,\n",
       "        663, 683, 689, 695, 699, 704, 709, 735, 736, 748, 749, 751, 761,\n",
       "        769, 798, 799, 808, 823, 839, 851, 852, 867, 882, 890, 903, 908,\n",
       "        909, 931, 934, 938, 939, 948, 964, 974, 975]),\n",
       " 2: array([ 10,  18,  19,  34,  40,  54,  60,  66,  67,  77,  97, 106, 112,\n",
       "        113, 131, 137, 140, 146, 150, 161, 173, 184, 235, 237, 246, 248,\n",
       "        270, 288, 297, 305, 307, 315, 326, 334, 341, 347, 351, 388, 390,\n",
       "        403, 408, 409, 421, 431, 454, 477, 486, 490, 493, 509, 518, 519,\n",
       "        549, 584, 594, 600, 608, 614, 622, 641, 650, 651, 659, 666, 670,\n",
       "        674, 696, 701, 708, 716, 717, 721, 722, 741, 752, 757, 768, 772,\n",
       "        784, 785, 788, 789, 797, 841, 846, 859, 868, 876, 878, 880, 887,\n",
       "        889, 891, 892, 899, 904, 913, 933, 952, 953, 965, 979]),\n",
       " 3: array([  0,  26,  35,  43,  69,  72,  78,  90, 110, 124, 134, 145, 153,\n",
       "        159, 162, 180, 194, 195, 198, 202, 210, 213, 221, 231, 244, 247,\n",
       "        274, 280, 281, 282, 304, 317, 329, 343, 354, 368, 381, 383, 389,\n",
       "        398, 400, 402, 406, 419, 429, 430, 440, 444, 446, 464, 467, 469,\n",
       "        483, 488, 498, 499, 501, 506, 510, 513, 515, 516, 522, 571, 587,\n",
       "        591, 593, 597, 603, 604, 629, 633, 644, 646, 669, 679, 706, 727,\n",
       "        738, 743, 767, 782, 792, 805, 810, 881, 895, 901, 905, 912, 921,\n",
       "        937, 951, 955, 968, 969, 987]),\n",
       " 4: array([ 27,  31,  33,  47,  52,  56,  59,  86,  88,  89,  95, 107, 129,\n",
       "        141, 176, 190, 204, 211, 217, 219, 236, 240, 245, 250, 252, 254,\n",
       "        263, 283, 287, 289, 295, 299, 306, 308, 318, 342, 361, 364, 418,\n",
       "        442, 456, 460, 475, 476, 478, 487, 489, 502, 521, 523, 545, 579,\n",
       "        588, 606, 618, 626, 637, 642, 643, 649, 652, 681, 682, 684, 693,\n",
       "        702, 730, 731, 733, 744, 778, 780, 787, 809, 814, 819, 836, 838,\n",
       "        840, 844, 861, 866, 871, 877, 902, 914, 919, 927, 928, 935, 936,\n",
       "        954]),\n",
       " 5: array([  1,   4,   6,   8,  29,  50,  55,  71,  74,  79, 117, 119, 120,\n",
       "        126, 136, 139, 177, 197, 214, 220, 222, 243, 249, 258, 301, 321,\n",
       "        349, 350, 358, 360, 371, 374, 377, 384, 396, 397, 399, 405, 411,\n",
       "        416, 447, 461, 540, 546, 557, 559, 560, 563, 564, 565, 573, 575,\n",
       "        583, 595, 625, 628, 634, 654, 660, 667, 671, 698, 700, 723, 753,\n",
       "        760, 762, 765, 794, 821, 835, 843, 862, 869, 875, 884, 898, 910,\n",
       "        911, 922, 956, 959, 972, 976, 980, 981, 996, 999]),\n",
       " 6: array([ 37,  48,  53,  57,  91, 102, 105, 115, 116, 127, 182, 196, 203,\n",
       "        206, 218, 225, 227, 228, 229, 241, 255, 257, 268, 284, 285, 292,\n",
       "        293, 325, 331, 333, 337, 338, 362, 372, 375, 387, 392, 401, 404,\n",
       "        410, 424, 425, 436, 439, 448, 452, 463, 484, 485, 491, 492, 494,\n",
       "        511, 512, 530, 533, 543, 544, 547, 561, 578, 592, 601, 612, 635,\n",
       "        636, 640, 653, 658, 662, 676, 677, 685, 694, 697, 713, 724, 732,\n",
       "        734, 737, 747, 755, 763, 764, 766, 773, 777, 796, 800, 801, 806,\n",
       "        815, 828, 832, 834, 837, 847, 850, 854, 858, 863, 870, 872, 873,\n",
       "        888, 906, 915, 918, 924, 926, 940, 950, 958, 960, 977, 989, 990,\n",
       "        992, 994, 997]),\n",
       " 7: array([ 16,  21,  24,  46,  76,  80,  82,  93, 104, 109, 128, 147, 156,\n",
       "        158, 171, 172, 181, 186, 189, 212, 226, 230, 238, 253, 269, 276,\n",
       "        277, 312, 313, 330, 336, 339, 346, 363, 370, 376, 378, 391, 443,\n",
       "        445, 450, 465, 470, 474, 481, 495, 517, 538, 548, 553, 554, 567,\n",
       "        581, 585, 586, 589, 590, 599, 611, 620, 624, 631, 638, 656, 680,\n",
       "        690, 691, 707, 710, 712, 726, 739, 781, 791, 812, 817, 822, 824,\n",
       "        830, 848, 849, 857, 860, 865, 879, 883, 886, 900, 920, 923, 930,\n",
       "        932, 947, 966, 995]),\n",
       " 8: array([  5,  17,  22,  32,  41,  42,  61,  63,  65,  68,  73,  75,  92,\n",
       "         99, 101, 103, 130, 132, 135, 143, 155, 167, 169, 170, 191, 199,\n",
       "        200, 224, 234, 251, 260, 261, 272, 286, 294, 296, 310, 323, 335,\n",
       "        340, 345, 353, 355, 356, 365, 366, 367, 379, 380, 382, 395, 413,\n",
       "        426, 435, 437, 457, 462, 482, 500, 508, 525, 526, 527, 532, 535,\n",
       "        539, 552, 562, 570, 574, 596, 661, 664, 675, 678, 715, 740, 750,\n",
       "        758, 771, 790, 795, 802, 811, 820, 826, 845, 856, 885, 894, 896,\n",
       "        897, 907, 916, 944, 946, 970, 971, 978, 984, 986, 993]),\n",
       " 9: array([  2,  28,  39,  51,  83,  85,  87, 108, 114, 118, 122, 125, 133,\n",
       "        138, 157, 165, 166, 174, 179, 185, 193, 205, 223, 239, 242, 262,\n",
       "        273, 278, 290, 298, 314, 316, 319, 322, 327, 348, 359, 373, 412,\n",
       "        423, 427, 432, 433, 451, 453, 458, 466, 468, 472, 496, 497, 503,\n",
       "        528, 531, 534, 536, 555, 558, 566, 576, 582, 598, 602, 605, 607,\n",
       "        609, 647, 657, 665, 668, 672, 692, 705, 711, 714, 718, 719, 728,\n",
       "        729, 754, 770, 774, 775, 793, 803, 807, 831, 842, 853, 917, 929,\n",
       "        942, 945, 949, 957, 962, 967, 982, 983, 988, 998])}"
      ]
     },
     "execution_count": 172,
     "metadata": {},
     "output_type": "execute_result"
    }
   ],
   "source": [
    "{i: np.where(model.labels_ == i)[0] for i in range(model.n_clusters)}"
   ]
  },
  {
   "cell_type": "markdown",
   "metadata": {},
   "source": [
    "# References\n",
    "1. "
   ]
  }
 ],
 "metadata": {
  "kernelspec": {
   "display_name": "Python 3",
   "language": "python",
   "name": "python3"
  },
  "language_info": {
   "codemirror_mode": {
    "name": "ipython",
    "version": 3
   },
   "file_extension": ".py",
   "mimetype": "text/x-python",
   "name": "python",
   "nbconvert_exporter": "python",
   "pygments_lexer": "ipython3",
   "version": "3.6.5"
  }
 },
 "nbformat": 4,
 "nbformat_minor": 2
}
