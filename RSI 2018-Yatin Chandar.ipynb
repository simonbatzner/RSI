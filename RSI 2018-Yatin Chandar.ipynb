{
 "cells": [
  {
   "cell_type": "markdown",
   "metadata": {},
   "source": [
    "# Learning H2O DFT Energies using Neural Networks\n",
    "\n",
    "### Authors: Yatin Chandar, Simon Batzner - RSI 2018\n",
    "\n",
    "### References: \n",
    "\n",
    "- Jon Vandermause, Steven Torrisi, Simon Batzner (https://github.com/simonbatzner/ML-electron-density)\n",
    "- Brockherde, F., Vogt, L., Li, L., Tuckerman, M. E., Burke, K., & Müller, K. R. (2017). Bypassing the Kohn-Sham equations with machine learning. Nature communications, 8(1), 872.\n",
    "- data from: http://quantum-machine.org/datasets/"
   ]
  },
  {
   "cell_type": "code",
   "execution_count": 65,
   "metadata": {},
   "outputs": [],
   "source": [
    "import os\n",
    "import math\n",
    "import numpy as np\n",
    "import matplotlib.pyplot as plt\n",
    "import sklearn\n",
    "import time\n",
    "from sklearn.gaussian_process import GaussianProcessRegressor\n",
    "from sklearn.metrics import mean_absolute_error"
   ]
  },
  {
   "cell_type": "code",
   "execution_count": 66,
   "metadata": {},
   "outputs": [],
   "source": [
    "user = 'simon'"
   ]
  },
  {
   "cell_type": "code",
   "execution_count": 67,
   "metadata": {
    "scrolled": true
   },
   "outputs": [],
   "source": [
    "H2O_pos = '/Users/yatin/Documents/water/structures.xyz'\n",
    "\n",
    "if user == 'simon': \n",
    "    H2O_pos = os.environ['RSI'] + '/water/structures.xyz' \n",
    "\n",
    "# read and store the separations\n",
    "data_h1y = []\n",
    "data_h1z = []\n",
    "count = 1\n",
    "\n",
    "\n",
    "with open(H2O_pos, 'r') as outf:\n",
    "    for line in outf:\n",
    "        if (count-3) % 5 == 0:\n",
    "            data_h1y.append(float(line.strip()[25:35]))\n",
    "        count +=1\n",
    "        \n",
    "        \n",
    "with open(H2O_pos, 'r') as outf:\n",
    "    for line in outf:\n",
    "        if (count-3) % 5 == 0:\n",
    "            data_h1z.append(float(line.strip()[42:52]))\n",
    "        count +=1"
   ]
  },
  {
   "cell_type": "code",
   "execution_count": 68,
   "metadata": {},
   "outputs": [],
   "source": [
    "H2O_pos = '/Users/yatin/Documents/water/structures.xyz'\n",
    "\n",
    "if user == 'simon': \n",
    "    H2O_pos = os.environ['RSI'] + '/water/structures.xyz' \n",
    "\n",
    "\n",
    "# read and store the separations\n",
    "data_h2y = []\n",
    "data_h2z = []\n",
    "count = 1\n",
    "\n",
    "\n",
    "with open(H2O_pos, 'r') as outf:\n",
    "    for line in outf:\n",
    "        if (count-4) % 5 == 0:\n",
    "            data_h2y.append(float(line.strip()[24:35]))\n",
    "        count +=1\n",
    "        \n",
    "        \n",
    "with open(H2O_pos, 'r') as outf:\n",
    "    for line in outf:\n",
    "        if (count-4) % 5 == 0:\n",
    "            data_h2z.append(float(line.strip()[42:52]))\n",
    "        count +=1\n",
    "    "
   ]
  },
  {
   "cell_type": "code",
   "execution_count": 69,
   "metadata": {},
   "outputs": [],
   "source": [
    "H2O_pos = '/Users/yatin/Documents/water/structures.xyz'\n",
    "\n",
    "if user == 'simon': \n",
    "    H2O_pos = os.environ['RSI'] + '/water/structures.xyz' \n",
    "\n",
    "\n",
    "# read and store the separations\n",
    "data_oy = []\n",
    "data_oz = []\n",
    "count = 1\n",
    "\n",
    "\n",
    "with open(H2O_pos, 'r') as outf:\n",
    "    for line in outf:\n",
    "        if (count-5) % 5 == 0:\n",
    "            data_oy.append(float(line.strip()[24:35]))\n",
    "        count +=1\n",
    "        \n",
    "        \n",
    "with open(H2O_pos, 'r') as outf:\n",
    "    for line in outf:\n",
    "        if (count-5) % 5 == 0:\n",
    "            data_oz.append(float(line.strip()[42:52]))\n",
    "        count +=1\n",
    "        \n",
    "        \n",
    "# convert from Bohr to angstrom\n",
    "#print(np.array(data_seps)) # coordinates were recorded, not separation\n",
    "# data_seps = data_seps / 0.529177"
   ]
  },
  {
   "cell_type": "code",
   "execution_count": 70,
   "metadata": {},
   "outputs": [],
   "source": [
    "H2O_pos = '/Users/yatin/Documents/water/energies.txt'\n",
    "\n",
    "if user == 'simon': \n",
    "    H2O_pos = os.environ['RSI'] + '/water/energies.txt' \n",
    "\n",
    "\n",
    "# read and store the separations\n",
    "energy = []\n",
    "\n",
    "with open(H2O_pos, 'r') as outf:\n",
    "    for line in outf:\n",
    "        energy.append(float(line))"
   ]
  },
  {
   "cell_type": "code",
   "execution_count": 71,
   "metadata": {},
   "outputs": [],
   "source": [
    "bond_1 = []\n",
    "bond_2 = []\n",
    "side3 = []\n",
    "for loc in range(0, len(data_oy)):\n",
    "    bond_1.append(math.sqrt((data_oy[loc]-data_h1y[loc])**2+(data_oz[loc]-data_h1z[loc])**2))\n",
    "    bond_2.append(math.sqrt((data_oy[loc]-data_h2y[loc])**2+(data_oz[loc]-data_h2z[loc])**2))\n",
    "    side3.append(math.sqrt((data_h2y[loc]-data_h1y[loc])**2+(data_h2z[loc]-data_h1z[loc])**2))"
   ]
  },
  {
   "cell_type": "code",
   "execution_count": 72,
   "metadata": {},
   "outputs": [],
   "source": [
    "angle = []\n",
    "\n",
    "for location in range(0,len(data_oy)):\n",
    "    angle.append(np.arccos((bond_1[location]**2+bond_2[location]**2-side3[location]**2)/(2*bond_1[location]*bond_2[location])))\n"
   ]
  },
  {
   "cell_type": "code",
   "execution_count": 73,
   "metadata": {},
   "outputs": [],
   "source": [
    "dataset = []\n",
    "\n",
    "for i in range (0, len(data_oy)):\n",
    "    l = []\n",
    "    l.append(bond_1[i])\n",
    "    l.append(bond_2[i])\n",
    "    l.append(angle[i])\n",
    "    dataset.append(l)"
   ]
  },
  {
   "cell_type": "code",
   "execution_count": 74,
   "metadata": {},
   "outputs": [],
   "source": [
    "X = dataset"
   ]
  },
  {
   "cell_type": "code",
   "execution_count": 35,
   "metadata": {},
   "outputs": [],
   "source": [
    "from sklearn.cluster import KMeans"
   ]
  },
  {
   "cell_type": "code",
   "execution_count": 36,
   "metadata": {},
   "outputs": [],
   "source": [
    "def split(X):\n",
    "    cluster = int(input())\n",
    "    model = KMeans(n_clusters=cluster)\n",
    "    minsos = []\n",
    "    l = []\n",
    "    closepts = []\n",
    "    m = []\n",
    "    n = []\n",
    "    closest = []\n",
    "    closelbl = []\n",
    "    smallest = 9999\n",
    "    for i in range(50):\n",
    "\n",
    "        model.fit(X)\n",
    "        y_pred = model.predict(X)\n",
    "        l = []\n",
    "        m = []\n",
    "        n = []\n",
    "        for i in {i: np.where(model.labels_ == i)[0] for i in range(model.n_clusters)}:\n",
    "            for j in {i: np.where(model.labels_ == i)[0] for i in range(model.n_clusters)}[i]:\n",
    "                if math.sqrt((dataset[j][0]-model.cluster_centers_[i][0])**2+(dataset[j][1]-model.cluster_centers_[i][1])**2+(dataset[j][2]-model.cluster_centers_[i][2])**2) < smallest:\n",
    "                    smallest = math.sqrt((dataset[j][0]-model.cluster_centers_[i][0])**2+(dataset[j][1]-model.cluster_centers_[i][1])**2+(dataset[j][2]-model.cluster_centers_[i][2])**2)\n",
    "                    closest = dataset[j]\n",
    "                    closestlabel = j\n",
    "            l.append(smallest)\n",
    "            m.append(closest)\n",
    "            n.append(closestlabel)\n",
    "            smallest = 9999\n",
    "        minsos.append(l)\n",
    "        closepts.append(m)\n",
    "        closelbl.append(n)\n",
    "    \n",
    "    \n",
    "    smallestsos = 9999\n",
    "    sos = 0\n",
    "    mark = 0\n",
    "    for i in range(len(minsos)):\n",
    "        sos = 0\n",
    "        for j in minsos[i]:\n",
    "            sos = sos+j**2\n",
    "        if sos < smallestsos:\n",
    "            smallestsos = sos\n",
    "            mark = i\n",
    "    \n",
    "    trainingset = closepts[mark]\n",
    "    totallbl = closelbl[mark]\n",
    "    \n",
    "\n",
    "    testset = []\n",
    "    testen = []\n",
    "    for k in dataset:\n",
    "        testset.append(k)\n",
    "    for k in energy:\n",
    "        testen.append(k)\n",
    "    for i in range(len(dataset)):\n",
    "        for j in range(len(trainingset)):\n",
    "            if trainingset[j] == dataset[i]:\n",
    "                testset.remove(trainingset[j])\n",
    "                testen.remove(energy[i])\n",
    "    test = np.array(testset)\n",
    "    testenergy = np.array(testen)\n",
    "    \n",
    "\n",
    "    A = trainingset\n",
    "    B = []\n",
    "    for i in totallbl:\n",
    "        B.append(energy[i])\n",
    "    training = np.array(A)\n",
    "    trainingenergy = np.array(B)\n",
    "    \n",
    "    return training, trainingenergy, test, testenergy"
   ]
  },
  {
   "cell_type": "markdown",
   "metadata": {},
   "source": [
    "## Split training and test data"
   ]
  },
  {
   "cell_type": "code",
   "execution_count": 102,
   "metadata": {},
   "outputs": [
    {
     "name": "stdout",
     "output_type": "stream",
     "text": [
      "800\n"
     ]
    }
   ],
   "source": [
    "training, trainingenergy, test, testenergy = split(X)"
   ]
  },
  {
   "cell_type": "code",
   "execution_count": 111,
   "metadata": {},
   "outputs": [],
   "source": [
    "np.save('training_in_800', training)\n",
    "np.save('training_out_800', trainingenergy)\n",
    "\n",
    "np.save('test_in_200', test)\n",
    "np.save('test_out_200', testenergy)"
   ]
  },
  {
   "cell_type": "markdown",
   "metadata": {},
   "source": [
    "## Train Gaussian Process Regressor using scikit-learn"
   ]
  },
  {
   "cell_type": "code",
   "execution_count": 112,
   "metadata": {},
   "outputs": [
    {
     "name": "stderr",
     "output_type": "stream",
     "text": [
      "/anaconda3/envs/py3.5/lib/python3.5/site-packages/sklearn/gaussian_process/gpr.py:335: UserWarning: Predicted variances smaller than 0. Setting those variances to 0.\n",
      "  warnings.warn(\"Predicted variances smaller than 0. \"\n"
     ]
    }
   ],
   "source": [
    "gp = GaussianProcessRegressor(n_restarts_optimizer=20)\n",
    "gp.fit(training, trainingenergy)\n",
    "target_pred, std = gp.predict(test, return_std=True)"
   ]
  },
  {
   "cell_type": "code",
   "execution_count": 113,
   "metadata": {},
   "outputs": [],
   "source": [
    "def plot_predict(pred, correct):\n",
    "    plt.figure(figsize = (10, 8))\n",
    "    plt.plot(pred)\n",
    "    plt.plot(correct, '--')\n",
    "    \n",
    "def plot_scatter(pred, correct): \n",
    "    plt.figure(figsize = (15, 15))\n",
    "    plt.scatter(pred, correct)\n",
    "    plt.plot(np.linspace(correct.min(), correct.max()), np.linspace(correct.min(), correct.max()), 'k')\n",
    "    plt.xlim((correct.min(), correct.max()))\n",
    "    plt.ylim((correct.min(), correct.max()))"
   ]
  },
  {
   "cell_type": "code",
   "execution_count": 114,
   "metadata": {},
   "outputs": [],
   "source": [
    "def error_det(pred, correct):\n",
    "    err = mean_absolute_error(correct, pred)\n",
    "    return err"
   ]
  },
  {
   "cell_type": "code",
   "execution_count": 115,
   "metadata": {},
   "outputs": [
    {
     "name": "stdout",
     "output_type": "stream",
     "text": [
      "MAE on training set:\t 0.0020281254853716747\n",
      "MAE on test set:\t 0.002152126787132147\n"
     ]
    },
    {
     "name": "stderr",
     "output_type": "stream",
     "text": [
      "/anaconda3/envs/py3.5/lib/python3.5/site-packages/sklearn/gaussian_process/gpr.py:335: UserWarning: Predicted variances smaller than 0. Setting those variances to 0.\n",
      "  warnings.warn(\"Predicted variances smaller than 0. \"\n"
     ]
    }
   ],
   "source": [
    "target_pred_t = gp.predict(training)\n",
    "print(\"MAE on training set:\\t {}\".format(error_det(trainingenergy, target_pred_t)))\n",
    "target_pred = run_gaussian(training, trainingenergy, test)\n",
    "print(\"MAE on test set:\\t {}\".format(error_det(testenergy, target_pred)))"
   ]
  },
  {
   "cell_type": "code",
   "execution_count": 116,
   "metadata": {},
   "outputs": [
    {
     "data": {
      "image/png": "[encoded data removed]",
      "text/plain": [
       "<Figure size 1080x1080 with 1 Axes>"
      ]
     },
     "metadata": {},
     "output_type": "display_data"
    }
   ],
   "source": [
    "plot_scatter(target_pred, testenergy)"
   ]
  },
  {
   "cell_type": "code",
   "execution_count": null,
   "metadata": {},
   "outputs": [],
   "source": []
  },
  {
   "cell_type": "markdown",
   "metadata": {},
   "source": [
    "# Neural Network"
   ]
  },
  {
   "cell_type": "code",
   "execution_count": 131,
   "metadata": {},
   "outputs": [],
   "source": [
    "from keras.models import Sequential\n",
    "from keras.layers import Dropout\n",
    "from keras.layers import Dense\n",
    "from sklearn.metrics import mean_squared_error\n",
    "from keras import optimizers\n",
    "from keras.callbacks import TensorBoard, EarlyStopping\n",
    "from sklearn.model_selection import train_test_split\n",
    "from math import sqrt"
   ]
  },
  {
   "cell_type": "markdown",
   "metadata": {},
   "source": [
    "## Parameters"
   ]
  },
  {
   "cell_type": "code",
   "execution_count": 144,
   "metadata": {},
   "outputs": [],
   "source": [
    "seed = 42\n",
    "epochs = 50000   # maximum number of training epochs\n",
    "optim = 'sgd'\n",
    "lr = 0.001      # larger means faster learning, more aggressive, set this in [0.001 - 0.003]\n",
    "decay = 0.0     # decay learning rate as training advances\n",
    "\n",
    "x_train = training\n",
    "y_train = trainingenergy\n",
    "\n",
    "x_test = test\n",
    "y_test =testenergy\n",
    "\n",
    "# network architecture - for single layer, set: hidden = (n,)\n",
    "hidden = (50,)\n",
    "\n",
    "# ignore tf warnings\n",
    "os.environ['TF_CPP_MIN_LOG_LEVEL'] = '2'"
   ]
  },
  {
   "cell_type": "code",
   "execution_count": 139,
   "metadata": {},
   "outputs": [],
   "source": [
    "def  init_architecture(input_shape, hidden_size, summary, activation='relu'):\n",
    "    \"\"\"\n",
    "    Built Neural Network using Keras\n",
    "\n",
    "    :param input_shape: shape of the input data\n",
    "    :param hidden_size: tuple of number of hidden layers, eg. (30, 30, 40) builds a network with hidden layers 30-30-40\n",
    "    :param summary: boolean, true plots a summary\n",
    "    :param activation: activiation function\n",
    "    :return: keras Sequential model\n",
    "    \"\"\"\n",
    "    model = Sequential()\n",
    "    print(\"Input shape: {}\".format(input_shape))\n",
    "\n",
    "    # hidden layers\n",
    "    model.add(Dense(hidden_size[0], input_shape=input_shape, activation=activation))\n",
    "    for layer_size in hidden_size[1:]:\n",
    "        model.add(Dense(layer_size, activation=activation))\n",
    "#         model.add(Dropout(0.2))\n",
    "\n",
    "    # output layer\n",
    "    model.add(Dense(1, activation='linear'))\n",
    "\n",
    "    if summary:\n",
    "        model.summary()\n",
    "\n",
    "    return model"
   ]
  },
  {
   "cell_type": "code",
   "execution_count": 140,
   "metadata": {},
   "outputs": [],
   "source": [
    "def train(model,  training_data, training_labels, validation_data, validation_labels, batchsize=64):\n",
    "    \"\"\"\"\n",
    "    Train Neural Network model\n",
    "    \"\"\"\n",
    "    history = model.fit(training_data, training_labels, validation_data=(validation_data, validation_labels),\n",
    "                        batch_size=batchsize,\n",
    "                        verbose=0, shuffle=True)\n",
    "    return history"
   ]
  },
  {
   "cell_type": "markdown",
   "metadata": {},
   "source": [
    "## Build model and train"
   ]
  },
  {
   "cell_type": "code",
   "execution_count": 145,
   "metadata": {},
   "outputs": [
    {
     "name": "stdout",
     "output_type": "stream",
     "text": [
      "Input shape: (3,)\n",
      "_________________________________________________________________\n",
      "Layer (type)                 Output Shape              Param #   \n",
      "=================================================================\n",
      "dense_29 (Dense)             (None, 50)                200       \n",
      "_________________________________________________________________\n",
      "dense_30 (Dense)             (None, 1)                 51        \n",
      "=================================================================\n",
      "Total params: 251\n",
      "Trainable params: 251\n",
      "Non-trainable params: 0\n",
      "_________________________________________________________________\n",
      "Epoch 14915: early stopping\n"
     ]
    }
   ],
   "source": [
    "# build neural net\n",
    "model = init_architecture(input_shape=x_train[0].shape, hidden_size=tuple(hidden), summary=True,\n",
    "                          activation='tanh')\n",
    "\n",
    "# pick optimizer\n",
    "optim = 'adam'\n",
    "adam = optimizers.Adam(lr=lr, decay=decay)\n",
    "sgd = optimizers.SGD(lr=0.01, momentum=0.9, nesterov=True)\n",
    "\n",
    "# set loss function\n",
    "if optim == 'adam': \n",
    "    model.compile(optimizer=adam, loss='mean_squared_error', metrics=['mse'])\n",
    "elif optim == 'sgd': \n",
    "    model.compile(optimizer=sgd, loss='mean_squared_error', metrics=['mse'])\n",
    "else: \n",
    "    \"Default optimizer ADAM being used...\"\n",
    "    model.compile(optimizer=adam, loss='mean_squared_error', metrics=['mse'])\n",
    "    \n",
    "# early stopping on validation error (i.e. network will stop when loss on the validation set increases)\n",
    "es = EarlyStopping(monitor='val_loss',\n",
    "                   min_delta=0,\n",
    "                   patience=500,\n",
    "                   verbose=10, mode='auto')\n",
    "\n",
    "# Log graph and gradients\n",
    "tb = TensorBoard(log_dir='./logs', histogram_freq=0, batch_size=1, write_graph=True, write_grads=True,\n",
    "                 write_images=True, embeddings_freq=0, embeddings_layer_names=None, embeddings_metadata=None)\n",
    "\n",
    "# Save training history\n",
    "history = model.fit(x_train, y_train, epochs=epochs, verbose=0, validation_split=0.2, callbacks=[es, tb])"
   ]
  },
  {
   "cell_type": "markdown",
   "metadata": {},
   "source": [
    "## Results"
   ]
  },
  {
   "cell_type": "code",
   "execution_count": 146,
   "metadata": {},
   "outputs": [
    {
     "name": "stdout",
     "output_type": "stream",
     "text": [
      "200/200 [==============================] - 0s 79us/step\n",
      "\n",
      "MAE on training data: \t2.2648112031000482\n",
      "MAE on test data: \t2.4220171893746554\n",
      "\n",
      "\t\tPred \t| \tTrue\n",
      "\n",
      "[[-13813.49023438 -13813.68607313]\n",
      " [-13813.49023438 -13816.6870142 ]\n",
      " [-13813.49023438 -13814.45032069]\n",
      " [-13813.49023438 -13808.54487429]\n",
      " [-13813.49023438 -13815.8740248 ]\n",
      " [-13813.49023438 -13815.05954819]\n",
      " [-13813.49023438 -13814.56499187]\n",
      " [-13813.49023438 -13813.71226853]\n",
      " [-13813.49023438 -13808.62207998]\n",
      " [-13813.49023438 -13811.89693858]\n",
      " [-13813.49023438 -13809.24987236]\n",
      " [-13813.49023438 -13813.41368359]\n",
      " [-13813.49023438 -13815.65246043]\n",
      " [-13813.49023438 -13811.92755793]\n",
      " [-13813.49023438 -13816.58475203]\n",
      " [-13813.49023438 -13812.01691222]\n",
      " [-13813.49023438 -13815.26573543]\n",
      " [-13813.49023438 -13815.15468184]\n",
      " [-13813.49023438 -13816.17334079]\n",
      " [-13813.49023438 -13809.06303439]\n",
      " [-13813.49023438 -13814.23390505]\n",
      " [-13813.49023438 -13810.38954033]\n",
      " [-13813.49023438 -13812.5220107 ]\n",
      " [-13813.49023438 -13807.72311856]\n",
      " [-13813.49023438 -13812.47544946]\n",
      " [-13813.49023438 -13811.5915075 ]\n",
      " [-13813.49023438 -13811.78321808]\n",
      " [-13813.49023438 -13809.65097361]\n",
      " [-13813.49023438 -13817.23335264]\n",
      " [-13813.49023438 -13815.44678775]\n",
      " [-13813.49023438 -13815.65571407]\n",
      " [-13813.49023438 -13814.10069409]\n",
      " [-13813.49023438 -13816.27962843]\n",
      " [-13813.49023438 -13808.52937479]\n",
      " [-13813.49023438 -13810.84205976]\n",
      " [-13813.49023438 -13812.52932433]\n",
      " [-13813.49023438 -13816.58740326]\n",
      " [-13813.49023438 -13814.76291794]\n",
      " [-13813.49023438 -13811.97415368]\n",
      " [-13813.49023438 -13815.21477848]\n",
      " [-13813.49023438 -13812.94404883]\n",
      " [-13813.49023438 -13816.64416154]\n",
      " [-13813.49023438 -13815.92941824]\n",
      " [-13813.49023438 -13810.04425295]\n",
      " [-13813.49023438 -13812.48596339]\n",
      " [-13813.49023438 -13813.07268524]\n",
      " [-13813.49023438 -13814.35839989]\n",
      " [-13813.49023438 -13814.96581075]\n",
      " [-13813.49023438 -13815.04667482]\n",
      " [-13813.49023438 -13807.64946144]\n",
      " [-13813.49023438 -13817.70183279]\n",
      " [-13813.49023438 -13814.25091057]\n",
      " [-13813.49023438 -13814.93676958]\n",
      " [-13813.49023438 -13811.54168007]\n",
      " [-13813.49023438 -13810.38367311]\n",
      " [-13813.49023438 -13815.72988575]\n",
      " [-13813.49023438 -13812.27248763]\n",
      " [-13813.49023438 -13812.13918881]\n",
      " [-13813.49023438 -13811.27404078]\n",
      " [-13813.49023438 -13817.11798179]\n",
      " [-13813.49023438 -13813.25679354]\n",
      " [-13813.49023438 -13807.98032864]\n",
      " [-13813.49023438 -13817.21113252]\n",
      " [-13813.49023438 -13813.9637212 ]\n",
      " [-13813.49023438 -13810.77613356]\n",
      " [-13813.49023438 -13807.89804325]\n",
      " [-13813.49023438 -13812.95657707]\n",
      " [-13813.49023438 -13815.84347447]\n",
      " [-13813.49023438 -13810.83137012]\n",
      " [-13813.49023438 -13805.120091  ]\n",
      " [-13813.49023438 -13813.84947987]\n",
      " [-13813.49023438 -13816.28443202]\n",
      " [-13813.49023438 -13809.54469224]\n",
      " [-13813.49023438 -13814.89289408]\n",
      " [-13813.49023438 -13811.1594449 ]\n",
      " [-13813.49023438 -13815.56623114]\n",
      " [-13813.49023438 -13813.38214807]\n",
      " [-13813.49023438 -13815.67848954]\n",
      " [-13813.49023438 -13815.1983534 ]\n",
      " [-13813.49023438 -13809.57346671]\n",
      " [-13813.49023438 -13814.29423699]\n",
      " [-13813.49023438 -13817.26446773]\n",
      " [-13813.49023438 -13816.40102338]\n",
      " [-13813.49023438 -13815.92022522]\n",
      " [-13813.49023438 -13813.20659901]\n",
      " [-13813.48925781 -13802.79857696]\n",
      " [-13813.49023438 -13816.71947843]\n",
      " [-13813.49023438 -13810.4892454 ]\n",
      " [-13813.49023438 -13816.34068829]\n",
      " [-13813.49023438 -13810.51158789]\n",
      " [-13813.49023438 -13813.4803377 ]\n",
      " [-13813.49023438 -13808.90327976]\n",
      " [-13813.49023438 -13816.21150281]\n",
      " [-13813.49023438 -13814.81098834]\n",
      " [-13813.49023438 -13807.46931587]\n",
      " [-13813.49023438 -13816.01668292]\n",
      " [-13813.49023438 -13818.10865066]\n",
      " [-13813.49023438 -13815.0007003 ]\n",
      " [-13813.49023438 -13809.80830606]\n",
      " [-13813.49023438 -13816.76053327]\n",
      " [-13813.49023438 -13816.0597552 ]\n",
      " [-13813.49023438 -13813.84570226]\n",
      " [-13813.49023438 -13810.70170146]\n",
      " [-13813.49023438 -13817.30935352]\n",
      " [-13813.49023438 -13812.9746117 ]\n",
      " [-13813.49023438 -13812.79822805]\n",
      " [-13813.49023438 -13810.28565291]\n",
      " [-13813.49023438 -13818.03587205]\n",
      " [-13813.49023438 -13812.73423145]\n",
      " [-13813.49023438 -13815.0916767 ]\n",
      " [-13813.49023438 -13810.02369573]\n",
      " [-13813.49023438 -13815.76955693]\n",
      " [-13813.49023438 -13813.97325935]\n",
      " [-13813.49023438 -13810.96801356]\n",
      " [-13813.49023438 -13816.03910071]\n",
      " [-13813.49023438 -13817.09502748]\n",
      " [-13813.49023438 -13817.58398327]\n",
      " [-13813.49023438 -13816.41395322]\n",
      " [-13813.49023438 -13818.22127929]\n",
      " [-13813.49023438 -13816.79845684]\n",
      " [-13813.49023438 -13811.00451582]\n",
      " [-13813.49023438 -13807.45498982]\n",
      " [-13813.49023438 -13806.72091921]\n",
      " [-13813.49023438 -13810.3955707 ]\n",
      " [-13813.49023438 -13809.89119385]\n",
      " [-13813.49023438 -13815.26099773]\n",
      " [-13813.49023438 -13812.97072114]\n",
      " [-13813.49023438 -13806.43213283]\n",
      " [-13813.49023438 -13812.13077704]\n",
      " [-13813.49023438 -13808.32961953]\n",
      " [-13813.49023438 -13810.38311463]\n",
      " [-13813.49023438 -13817.57651276]\n",
      " [-13813.49023438 -13810.9264473 ]\n",
      " [-13813.49023438 -13812.9030034 ]\n",
      " [-13813.49023438 -13812.03995438]\n",
      " [-13813.49023438 -13813.41462799]\n",
      " [-13813.49023438 -13817.09644879]\n",
      " [-13813.49023438 -13815.08159262]\n",
      " [-13813.49023438 -13813.06456212]\n",
      " [-13813.49023438 -13812.10957034]\n",
      " [-13813.49023438 -13815.30651416]\n",
      " [-13813.49023438 -13816.83447278]\n",
      " [-13813.49023438 -13813.86921506]\n",
      " [-13813.49023438 -13808.65961449]\n",
      " [-13813.49023438 -13813.63880594]\n",
      " [-13813.49023438 -13812.65215314]\n",
      " [-13813.49023438 -13813.71761178]\n",
      " [-13813.49023438 -13808.85972429]\n",
      " [-13813.49023438 -13811.7097147 ]\n",
      " [-13813.49023438 -13816.81055209]\n",
      " [-13813.49023438 -13808.58227702]\n",
      " [-13813.49023438 -13815.63068583]\n",
      " [-13813.49023438 -13812.41089437]\n",
      " [-13813.49023438 -13811.16048029]\n",
      " [-13813.49023438 -13816.77237125]\n",
      " [-13813.49023438 -13815.46114518]\n",
      " [-13813.49023438 -13812.11859707]\n",
      " [-13813.49023438 -13811.44808068]\n",
      " [-13813.49023438 -13814.20170437]\n",
      " [-13813.49023438 -13814.34431857]\n",
      " [-13813.49023438 -13816.01436113]\n",
      " [-13813.49023438 -13809.2808588 ]\n",
      " [-13813.49023438 -13814.6459438 ]\n",
      " [-13813.49023438 -13808.75695384]\n",
      " [-13813.49023438 -13814.9638184 ]\n",
      " [-13813.49023438 -13816.95944139]\n",
      " [-13813.49023438 -13815.72852405]\n",
      " [-13813.49023438 -13817.15731726]\n",
      " [-13813.49023438 -13811.1743012 ]\n",
      " [-13813.49023438 -13811.81560073]\n",
      " [-13813.49023438 -13816.23398649]\n",
      " [-13813.49023438 -13816.27741646]\n",
      " [-13813.49023438 -13813.55891136]\n",
      " [-13813.49023438 -13809.49873969]\n",
      " [-13813.49023438 -13815.90224392]\n",
      " [-13813.49023438 -13815.1474843 ]\n",
      " [-13813.49023438 -13813.63457652]\n",
      " [-13813.49023438 -13812.16905202]\n",
      " [-13813.49023438 -13813.3689484 ]\n",
      " [-13813.49023438 -13813.05600289]\n",
      " [-13813.49023438 -13812.82066467]\n",
      " [-13813.49023438 -13817.50794788]\n",
      " [-13813.49023438 -13813.07208597]\n",
      " [-13813.49023438 -13814.60294368]\n",
      " [-13813.49023438 -13812.33555238]\n",
      " [-13813.49023438 -13817.78890921]\n",
      " [-13813.49023438 -13817.17208571]\n",
      " [-13813.49023438 -13813.56773729]\n",
      " [-13813.49023438 -13814.14022094]\n",
      " [-13813.49023438 -13816.71894191]\n",
      " [-13813.49023438 -13816.67688305]\n",
      " [-13813.49023438 -13816.88284125]\n",
      " [-13813.49023438 -13810.5170284 ]\n",
      " [-13813.49023438 -13814.97725339]\n",
      " [-13813.49023438 -13811.37186331]\n",
      " [-13813.49023438 -13810.27397182]\n",
      " [-13813.49023438 -13812.74153253]\n",
      " [-13813.49023438 -13817.69083567]\n",
      " [-13813.49023438 -13813.34164858]\n",
      " [-13813.49023438 -13814.68981302]]\n",
      "\n",
      "\n",
      "Test Loss: 8.720864353179932\n",
      "dict_keys(['val_mean_squared_error', 'mean_squared_error', 'loss', 'val_loss'])\n"
     ]
    },
    {
     "data": {
      "image/png": "[encoded data removed]",
      "text/plain": [
       "<Figure size 432x288 with 1 Axes>"
      ]
     },
     "metadata": {},
     "output_type": "display_data"
    }
   ],
   "source": [
    "# Predict# Predi \n",
    "test_loss = model.evaluate(x_test, y_test)\n",
    "\n",
    "# Eval on training data\n",
    "y_true, y_pred = y_train, model.predict(x_train)\n",
    "print(\"\\nMAE on training data: \\t{}\".format(mean_absolute_error(y_true, y_pred)))\n",
    "\n",
    "# Eval on test data\n",
    "y_true, y_pred = y_test, model.predict(x_test)\n",
    "print(\"MAE on test data: \\t{}\".format(mean_absolute_error(y_true, y_pred)))\n",
    "\n",
    "# Predict on new data\n",
    "print(\"\\n\\t\\tPred \\t| \\tTrue\\n\")\n",
    "print(np.c_[y_pred, y_true])\n",
    "\n",
    "# Results\n",
    "print(\"\\n\\nTest Loss: {}\".format(test_loss[1]))\n",
    "\n",
    "# Plot loss history\n",
    "print(history.history.keys())\n",
    "plt.semilogy(history.history['loss'])\n",
    "plt.semilogy(history.history['val_loss'])\n",
    "plt.title('model loss')\n",
    "plt.ylabel('loss')\n",
    "plt.xlabel('epoch')\n",
    "plt.legend(['train', 'test'], loc='upper left')\n",
    "plt.show()"
   ]
  },
  {
   "cell_type": "code",
   "execution_count": 148,
   "metadata": {},
   "outputs": [],
   "source": [
    "plot_scatter(y_pred, y_test)"
   ]
  },
  {
   "cell_type": "code",
   "execution_count": null,
   "metadata": {},
   "outputs": [],
   "source": []
  }
 ],
 "metadata": {
  "kernelspec": {
   "display_name": "Python 3",
   "language": "python",
   "name": "python3"
  },
  "language_info": {
   "codemirror_mode": {
    "name": "ipython",
    "version": 3
   },
   "file_extension": ".py",
   "mimetype": "text/x-python",
   "name": "python",
   "nbconvert_exporter": "python",
   "pygments_lexer": "ipython3",
   "version": "3.5.5"
  }
 },
 "nbformat": 4,
 "nbformat_minor": 2
}
