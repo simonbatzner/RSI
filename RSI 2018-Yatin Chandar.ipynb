{
 "cells": [
  {
   "cell_type": "code",
   "execution_count": 1,
   "metadata": {},
   "outputs": [],
   "source": [
    "import os\n",
    "import math\n",
    "import numpy as np\n",
    "import matplotlib.pyplot as plt\n",
    "import sklearn\n",
    "import time"
   ]
  },
  {
   "cell_type": "code",
   "execution_count": 103,
   "metadata": {
    "scrolled": true
   },
   "outputs": [],
   "source": [
    "H2O_pos = '/Users/yatin/Documents/water/structures.xyz'\n",
    "\n",
    "# read and store the separations\n",
    "data_h1y = []\n",
    "data_h1z = []\n",
    "count = 1\n",
    "\n",
    "\n",
    "with open(H2O_pos, 'r') as outf:\n",
    "    for line in outf:\n",
    "        if (count-3) % 5 == 0:\n",
    "            data_h1y.append(float(line.strip()[25:35]))\n",
    "        count +=1\n",
    "        \n",
    "        \n",
    "with open(H2O_pos, 'r') as outf:\n",
    "    for line in outf:\n",
    "        if (count-3) % 5 == 0:\n",
    "            data_h1z.append(float(line.strip()[42:52]))\n",
    "        count +=1\n",
    "        \n",
    "        \n",
    "# convert from Bohr to angstrom\n",
    "#print(np.array(data_seps)) # coordinates were recorded, not separation\n",
    "# data_seps = data_seps / 0.529177"
   ]
  },
  {
   "cell_type": "code",
   "execution_count": 104,
   "metadata": {},
   "outputs": [],
   "source": [
    "H2O_pos = '/Users/yatin/Documents/water/structures.xyz'\n",
    "\n",
    "# read and store the separations\n",
    "data_h2y = []\n",
    "data_h2z = []\n",
    "count = 1\n",
    "\n",
    "\n",
    "with open(H2O_pos, 'r') as outf:\n",
    "    for line in outf:\n",
    "        if (count-4) % 5 == 0:\n",
    "            data_h2y.append(float(line.strip()[24:35]))\n",
    "        count +=1\n",
    "        \n",
    "        \n",
    "with open(H2O_pos, 'r') as outf:\n",
    "    for line in outf:\n",
    "        if (count-4) % 5 == 0:\n",
    "            data_h2z.append(float(line.strip()[42:52]))\n",
    "        count +=1\n",
    "        \n",
    "        \n",
    "# convert from Bohr to angstrom\n",
    "#print(np.array(data_seps)) # coordinates were recorded, not separation\n",
    "# data_seps = data_seps / 0.529177"
   ]
  },
  {
   "cell_type": "code",
   "execution_count": 105,
   "metadata": {},
   "outputs": [],
   "source": [
    "H2O_pos = '/Users/yatin/Documents/water/structures.xyz'\n",
    "\n",
    "# read and store the separations\n",
    "data_oy = []\n",
    "data_oz = []\n",
    "count = 1\n",
    "\n",
    "\n",
    "with open(H2O_pos, 'r') as outf:\n",
    "    for line in outf:\n",
    "        if (count-5) % 5 == 0:\n",
    "            data_oy.append(float(line.strip()[24:35]))\n",
    "        count +=1\n",
    "        \n",
    "        \n",
    "with open(H2O_pos, 'r') as outf:\n",
    "    for line in outf:\n",
    "        if (count-5) % 5 == 0:\n",
    "            data_oz.append(float(line.strip()[42:52]))\n",
    "        count +=1\n",
    "        \n",
    "        \n",
    "# convert from Bohr to angstrom\n",
    "#print(np.array(data_seps)) # coordinates were recorded, not separation\n",
    "# data_seps = data_seps / 0.529177"
   ]
  },
  {
   "cell_type": "code",
   "execution_count": 106,
   "metadata": {},
   "outputs": [],
   "source": [
    "bond_1 = []\n",
    "bond_2 = []\n",
    "side3 = []\n",
    "for loc in range(0, len(data_oy)):\n",
    "    bond_1.append(math.sqrt((data_oy[loc]-data_h1y[loc])**2+(data_oz[loc]-data_h1z[loc])**2))\n",
    "    bond_2.append(math.sqrt((data_oy[loc]-data_h2y[loc])**2+(data_oz[loc]-data_h2z[loc])**2))\n",
    "    side3.append(math.sqrt((data_h2y[loc]-data_h1y[loc])**2+(data_h2z[loc]-data_h1z[loc])**2))"
   ]
  },
  {
   "cell_type": "code",
   "execution_count": 107,
   "metadata": {},
   "outputs": [],
   "source": [
    "angle = []\n",
    "\n",
    "for location in range(0,len(data_oy)):\n",
    "    angle.append(np.arccos((bond_1[location]**2+bond_2[location]**2-side3[location]**2)/(2*bond_1[location]*bond_2[location])))\n"
   ]
  },
  {
   "cell_type": "code",
   "execution_count": 108,
   "metadata": {},
   "outputs": [],
   "source": [
    "dataset = []\n",
    "\n",
    "for i in range (0, len(data_oy)):\n",
    "    l = []\n",
    "    l.append(bond_1[i])\n",
    "    l.append(bond_2[i])\n",
    "    l.append(angle[i])\n",
    "    dataset.append(l)\n"
   ]
  },
  {
   "cell_type": "code",
   "execution_count": 109,
   "metadata": {},
   "outputs": [],
   "source": [
    "X = dataset"
   ]
  },
  {
   "cell_type": "code",
   "execution_count": 110,
   "metadata": {},
   "outputs": [],
   "source": [
    "from sklearn.cluster import KMeans\n",
    "import pandas as pd \n",
    "model = KMeans(n_clusters=10)\n",
    "minsos = []\n",
    "l = []\n",
    "closepts = []\n",
    "m = []\n",
    "closest = []\n",
    "for i in range(50):\n",
    "\n",
    "    model.fit(X)\n",
    "    y_pred = model.predict(X)\n",
    "    l = []\n",
    "    m = []\n",
    "    for i in {i: np.where(model.labels_ == i)[0] for i in range(model.n_clusters)}:\n",
    "        for j in {i: np.where(model.labels_ == i)[0] for i in range(model.n_clusters)}[i]:\n",
    "            if math.sqrt((dataset[j][0]-model.cluster_centers_[i][0])**2+(dataset[j][1]-model.cluster_centers_[i][1])**2+(dataset[j][2]-model.cluster_centers_[i][2])**2) < smallest:\n",
    "                smallest = math.sqrt((dataset[j][0]-model.cluster_centers_[i][0])**2+(dataset[j][1]-model.cluster_centers_[i][1])**2+(dataset[j][2]-model.cluster_centers_[i][2])**2)\n",
    "                closest = dataset[j]\n",
    "        l.append(smallest)\n",
    "        m.append(closest)\n",
    "        smallest = 9999\n",
    "    minsos.append(l)\n",
    "    closepts.append(m)"
   ]
  },
  {
   "cell_type": "code",
   "execution_count": 111,
   "metadata": {},
   "outputs": [
    {
     "name": "stdout",
     "output_type": "stream",
     "text": [
      "[[0.9396054932475962, 0.9121554488048449, 1.9908215577211912], [0.9690850424913746, 0.837316704858869, 2.182005798070391], [0.9317586946019293, 0.8526606771478701, 1.8957620719600385], [0.8656774526326065, 0.8328745087566632, 2.036999723167429], [0.8647888725984055, 0.8183139872337177, 1.9148062761306228], [0.9414836258881135, 0.8373799654578877, 2.0709183990636486], [0.9712016212696207, 0.9211764755206091, 2.0956176846521104], [0.9618688920671653, 0.9265392854993384, 2.1781442897259606], [0.885152907761966, 0.8433571958272936, 2.1775576976717437], [0.9435788938881361, 0.8250704458460854, 1.9666150448665864]]\n"
     ]
    }
   ],
   "source": [
    "smallestsos = 9999\n",
    "sos = 0\n",
    "mark = 0\n",
    "for i in range(len(minsos)):\n",
    "    sos = 0\n",
    "    for j in minsos[i]:\n",
    "        sos = sos+j**2\n",
    "    if sos < smallestsos:\n",
    "        smallestsos = sos\n",
    "        mark = i\n",
    "trainingset = closepts[mark]\n",
    "print(trainingset)"
   ]
  },
  {
   "cell_type": "markdown",
   "metadata": {},
   "source": [
    "# References\n",
    "1. "
   ]
  }
 ],
 "metadata": {
  "kernelspec": {
   "display_name": "Python 3",
   "language": "python",
   "name": "python3"
  },
  "language_info": {
   "codemirror_mode": {
    "name": "ipython",
    "version": 3
   },
   "file_extension": ".py",
   "mimetype": "text/x-python",
   "name": "python",
   "nbconvert_exporter": "python",
   "pygments_lexer": "ipython3",
   "version": "3.6.5"
  }
 },
 "nbformat": 4,
 "nbformat_minor": 2
}
