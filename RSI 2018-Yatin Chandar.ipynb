{
 "cells": [
  {
   "cell_type": "code",
   "execution_count": 22,
   "metadata": {},
   "outputs": [],
   "source": [
    "import os\n",
    "import math\n",
    "import numpy as np\n",
    "import matplotlib.pyplot as plt\n",
    "import sklearn\n",
    "import time"
   ]
  },
  {
   "cell_type": "code",
   "execution_count": 23,
   "metadata": {
    "scrolled": true
   },
   "outputs": [],
   "source": [
    "H2O_pos = '/Users/yatin/Documents/water/structures.xyz'\n",
    "\n",
    "# read and store the separations\n",
    "data_h1y = []\n",
    "data_h1z = []\n",
    "count = 1\n",
    "\n",
    "\n",
    "with open(H2O_pos, 'r') as outf:\n",
    "    for line in outf:\n",
    "        if (count-3) % 5 == 0:\n",
    "            data_h1y.append(float(line.strip()[25:35]))\n",
    "        count +=1\n",
    "        \n",
    "        \n",
    "with open(H2O_pos, 'r') as outf:\n",
    "    for line in outf:\n",
    "        if (count-3) % 5 == 0:\n",
    "            data_h1z.append(float(line.strip()[42:52]))\n",
    "        count +=1\n",
    "        \n",
    "        \n",
    "# convert from Bohr to angstrom\n",
    "#print(np.array(data_seps)) # coordinates were recorded, not separation\n",
    "# data_seps = data_seps / 0.529177"
   ]
  },
  {
   "cell_type": "code",
   "execution_count": 24,
   "metadata": {},
   "outputs": [],
   "source": [
    "H2O_pos = '/Users/yatin/Documents/water/structures.xyz'\n",
    "\n",
    "# read and store the separations\n",
    "data_h2y = []\n",
    "data_h2z = []\n",
    "count = 1\n",
    "\n",
    "\n",
    "with open(H2O_pos, 'r') as outf:\n",
    "    for line in outf:\n",
    "        if (count-4) % 5 == 0:\n",
    "            data_h2y.append(float(line.strip()[24:35]))\n",
    "        count +=1\n",
    "        \n",
    "        \n",
    "with open(H2O_pos, 'r') as outf:\n",
    "    for line in outf:\n",
    "        if (count-4) % 5 == 0:\n",
    "            data_h2z.append(float(line.strip()[42:52]))\n",
    "        count +=1\n",
    "        \n",
    "        \n",
    "# convert from Bohr to angstrom\n",
    "#print(np.array(data_seps)) # coordinates were recorded, not separation\n",
    "# data_seps = data_seps / 0.529177"
   ]
  },
  {
   "cell_type": "code",
   "execution_count": 25,
   "metadata": {},
   "outputs": [],
   "source": [
    "H2O_pos = '/Users/yatin/Documents/water/structures.xyz'\n",
    "\n",
    "# read and store the separations\n",
    "data_oy = []\n",
    "data_oz = []\n",
    "count = 1\n",
    "\n",
    "\n",
    "with open(H2O_pos, 'r') as outf:\n",
    "    for line in outf:\n",
    "        if (count-5) % 5 == 0:\n",
    "            data_oy.append(float(line.strip()[24:35]))\n",
    "        count +=1\n",
    "        \n",
    "        \n",
    "with open(H2O_pos, 'r') as outf:\n",
    "    for line in outf:\n",
    "        if (count-5) % 5 == 0:\n",
    "            data_oz.append(float(line.strip()[42:52]))\n",
    "        count +=1\n",
    "        \n",
    "        \n",
    "# convert from Bohr to angstrom\n",
    "#print(np.array(data_seps)) # coordinates were recorded, not separation\n",
    "# data_seps = data_seps / 0.529177"
   ]
  },
  {
   "cell_type": "code",
   "execution_count": 26,
   "metadata": {},
   "outputs": [],
   "source": [
    "bond_1 = []\n",
    "bond_2 = []\n",
    "side3 = []\n",
    "for loc in range(0, len(data_oy)):\n",
    "    bond_1.append(math.sqrt((data_oy[loc]-data_h1y[loc])**2+(data_oz[loc]-data_h1z[loc])**2))\n",
    "    bond_2.append(math.sqrt((data_oy[loc]-data_h2y[loc])**2+(data_oz[loc]-data_h2z[loc])**2))\n",
    "    side3.append(math.sqrt((data_h2y[loc]-data_h1y[loc])**2+(data_h2z[loc]-data_h1z[loc])**2))"
   ]
  },
  {
   "cell_type": "code",
   "execution_count": 27,
   "metadata": {},
   "outputs": [],
   "source": [
    "angle = []\n",
    "\n",
    "for location in range(0,len(data_oy)):\n",
    "    angle.append(np.arccos((bond_1[location]**2+bond_2[location]**2-side3[location]**2)/(2*bond_1[location]*bond_2[location])))\n"
   ]
  },
  {
   "cell_type": "code",
   "execution_count": 28,
   "metadata": {},
   "outputs": [],
   "source": [
    "dataset = []\n",
    "\n",
    "for i in range (0, len(data_oy)):\n",
    "    l = []\n",
    "    l.append(bond_1[i])\n",
    "    l.append(bond_2[i])\n",
    "    l.append(angle[i])\n",
    "    dataset.append(l)\n"
   ]
  },
  {
   "cell_type": "code",
   "execution_count": 29,
   "metadata": {},
   "outputs": [],
   "source": [
    "X = dataset"
   ]
  },
  {
   "cell_type": "code",
   "execution_count": 83,
   "metadata": {},
   "outputs": [],
   "source": [
    "from sklearn.cluster import KMeans\n",
    " \n",
    "model = KMeans(n_clusters=30)\n",
    "minsos = []\n",
    "l = []\n",
    "closepts = []\n",
    "m = []\n",
    "n = []\n",
    "closest = []\n",
    "closelbl = []\n",
    "smallest = 9999\n",
    "for i in range(50):\n",
    "\n",
    "    model.fit(X)\n",
    "    y_pred = model.predict(X)\n",
    "    l = []\n",
    "    m = []\n",
    "    n = []\n",
    "    for i in {i: np.where(model.labels_ == i)[0] for i in range(model.n_clusters)}:\n",
    "        for j in {i: np.where(model.labels_ == i)[0] for i in range(model.n_clusters)}[i]:\n",
    "            if math.sqrt((dataset[j][0]-model.cluster_centers_[i][0])**2+(dataset[j][1]-model.cluster_centers_[i][1])**2+(dataset[j][2]-model.cluster_centers_[i][2])**2) < smallest:\n",
    "                smallest = math.sqrt((dataset[j][0]-model.cluster_centers_[i][0])**2+(dataset[j][1]-model.cluster_centers_[i][1])**2+(dataset[j][2]-model.cluster_centers_[i][2])**2)\n",
    "                closest = dataset[j]\n",
    "                closestlabel = j\n",
    "        l.append(smallest)\n",
    "        m.append(closest)\n",
    "        n.append(closestlabel)\n",
    "        smallest = 9999\n",
    "    minsos.append(l)\n",
    "    closepts.append(m)\n",
    "    closelbl.append(n)"
   ]
  },
  {
   "cell_type": "code",
   "execution_count": 84,
   "metadata": {
    "scrolled": true
   },
   "outputs": [
    {
     "name": "stdout",
     "output_type": "stream",
     "text": [
      "[[0.9661929623653812, 0.8632857254434432, 2.045182710950532], [0.8996961143855887, 0.8520106080755128, 1.874877161343255], [0.9539993695258873, 0.8987128697242076, 2.141332558077848], [0.9196100999067252, 0.8387968631576598, 2.12702226299341], [0.8289395733384061, 0.8186475698424538, 1.9587456325548271], [0.9493022919654835, 0.8200624430618046, 2.001147940562452], [0.8575169904589222, 0.8203917900886981, 2.055203958671976], [0.9515840377525157, 0.9257841760277251, 1.9616193163657067], [0.8707213651800677, 0.837465805271251, 2.1857463655412688], [0.9670107434486941, 0.9031112603314717, 2.1800723403980227], [0.9334203608520396, 0.8062440691587012, 1.8913306770651686], [0.9814311265725222, 0.9550572600201814, 2.124019852679744], [0.9480096895610298, 0.924770217739764, 2.010849140985759], [0.8726749270715362, 0.8233470925503374, 2.1271109219813655], [0.9654775192524008, 0.8475547912691817, 1.907265437005229], [0.9128299858803363, 0.8875599226090987, 2.0740893055411624], [0.9324527776929646, 0.8194322971736061, 2.073261895670557], [0.9877050202599569, 0.8350119370516651, 2.1931913570992], [0.8115787117877161, 0.7944147935229092, 1.8791655723575689], [0.9532540866907974, 0.8073513857820851, 1.931756879516253], [0.9696198407951321, 0.9598161832508825, 2.197536561434359], [0.8825345902965379, 0.8193775824427593, 1.96434318298246], [0.9040536993033474, 0.8686136898419266, 1.932254358741779], [0.8940621330052627, 0.8462394890915216, 2.0241594444148263], [0.9771199648603146, 0.8350299262812612, 2.119109867154234], [0.9450203853032932, 0.8974456752114479, 1.8902451529846218], [0.8689140553506753, 0.8116335040983993, 1.8749919438190723], [0.9607775513564638, 0.8980863909062905, 2.0870691440871894], [0.9060690145090984, 0.8909311605637904, 2.1989130157560166], [0.9205027531496675, 0.829107910933525, 2.1941740663403584]]\n",
      "[3, 896, 161, 285, 611, 908, 633, 765, 387, 600, 550, 523, 301, 48, 272, 521, 893, 657, 109, 183, 584, 309, 251, 446, 327, 426, 923, 928, 333, 697]\n"
     ]
    }
   ],
   "source": [
    "smallestsos = 9999\n",
    "sos = 0\n",
    "mark = 0\n",
    "for i in range(len(minsos)):\n",
    "    sos = 0\n",
    "    for j in minsos[i]:\n",
    "        sos = sos+j**2\n",
    "    if sos < smallestsos:\n",
    "        smallestsos = sos\n",
    "        mark = i\n",
    "totalset = closepts[mark]\n",
    "totallbl = closelbl[mark]\n",
    "print(totalset)\n",
    "print(totallbl)"
   ]
  },
  {
   "cell_type": "code",
   "execution_count": 85,
   "metadata": {
    "scrolled": false
   },
   "outputs": [],
   "source": [
    "H2O_pos = '/Users/yatin/Documents/water/energies.txt'\n",
    "\n",
    "# read and store the separations\n",
    "energy = []\n",
    "\n",
    "with open(H2O_pos, 'r') as outf:\n",
    "    for line in outf:\n",
    "        energy.append(float(line))"
   ]
  },
  {
   "cell_type": "code",
   "execution_count": 86,
   "metadata": {},
   "outputs": [
    {
     "name": "stdout",
     "output_type": "stream",
     "text": [
      "[[0.96619296 0.86328573 2.04518271]\n",
      " [0.89969611 0.85201061 1.87487716]\n",
      " [0.95399937 0.89871287 2.14133256]\n",
      " [0.9196101  0.83879686 2.12702226]\n",
      " [0.82893957 0.81864757 1.95874563]\n",
      " [0.94930229 0.82006244 2.00114794]\n",
      " [0.85751699 0.82039179 2.05520396]\n",
      " [0.95158404 0.92578418 1.96161932]\n",
      " [0.87072137 0.83746581 2.18574637]\n",
      " [0.96701074 0.90311126 2.18007234]\n",
      " [0.93342036 0.80624407 1.89133068]\n",
      " [0.98143113 0.95505726 2.12401985]\n",
      " [0.94800969 0.92477022 2.01084914]\n",
      " [0.87267493 0.82334709 2.12711092]\n",
      " [0.96547752 0.84755479 1.90726544]\n",
      " [0.91282999 0.88755992 2.07408931]\n",
      " [0.93245278 0.8194323  2.0732619 ]\n",
      " [0.98770502 0.83501194 2.19319136]\n",
      " [0.81157871 0.79441479 1.87916557]\n",
      " [0.95325409 0.80735139 1.93175688]\n",
      " [0.96961984 0.95981618 2.19753656]\n",
      " [0.88253459 0.81937758 1.96434318]\n",
      " [0.9040537  0.86861369 1.93225436]\n",
      " [0.89406213 0.84623949 2.02415944]\n",
      " [0.97711996 0.83502993 2.11910987]\n",
      " [0.94502039 0.89744568 1.89024515]\n",
      " [0.86891406 0.8116335  1.87499194]\n",
      " [0.96077755 0.89808639 2.08706914]\n",
      " [0.90606901 0.89093116 2.19891302]\n",
      " [0.92050275 0.82910791 2.19417407]]\n",
      "[-13815.05614081 -13815.73447912 -13816.3135579  -13815.04667482\n",
      " -13811.26970468 -13812.94078264 -13812.84574939 -13814.62681416\n",
      " -13812.95764697 -13815.26099773 -13811.49032779 -13812.73423145\n",
      " -13815.67064253 -13812.74780763 -13813.07268524 -13818.03587205\n",
      " -13813.24820292 -13810.24952403 -13806.10949856 -13811.00079782\n",
      " -13813.19358132 -13814.2826061  -13817.06939997 -13816.71947843\n",
      " -13812.13918881 -13814.45729233 -13812.65877651 -13816.03868342\n",
      " -13816.94725201 -13812.65215314]\n"
     ]
    }
   ],
   "source": [
    "A = totalset\n",
    "B = []\n",
    "for i in totallbl:\n",
    "    B.append(energy[i])\n",
    "data = np.array(A)\n",
    "target = np.array(B)\n",
    "print(data)\n",
    "print(target)"
   ]
  },
  {
   "cell_type": "code",
   "execution_count": 87,
   "metadata": {},
   "outputs": [
    {
     "name": "stdout",
     "output_type": "stream",
     "text": [
      "(30, 3)\n",
      "(30,)\n"
     ]
    },
    {
     "data": {
      "text/plain": [
       "[<matplotlib.lines.Line2D at 0x1a15840e80>]"
      ]
     },
     "execution_count": 87,
     "metadata": {},
     "output_type": "execute_result"
    },
    {
     "data": {
      "image/png": "[encoded data removed]",
      "text/plain": [
       "<Figure size 432x288 with 1 Axes>"
      ]
     },
     "metadata": {},
     "output_type": "display_data"
    }
   ],
   "source": [
    "print(data.shape)\n",
    "print(target.shape)\n",
    "plt.plot(target)"
   ]
  },
  {
   "cell_type": "code",
   "execution_count": 88,
   "metadata": {},
   "outputs": [
    {
     "name": "stderr",
     "output_type": "stream",
     "text": [
      " /anaconda3/lib/python3.6/site-packages/sklearn/gaussian_process/gpr.py:335: UserWarning:Predicted variances smaller than 0. Setting those variances to 0.\n"
     ]
    },
    {
     "data": {
      "text/plain": [
       "[<matplotlib.lines.Line2D at 0x1a15cc7ba8>]"
      ]
     },
     "execution_count": 88,
     "metadata": {},
     "output_type": "execute_result"
    },
    {
     "data": {
      "image/png": "[encoded data removed]",
      "text/plain": [
       "<Figure size 720x576 with 1 Axes>"
      ]
     },
     "metadata": {},
     "output_type": "display_data"
    }
   ],
   "source": [
    "from sklearn.gaussian_process import GaussianProcessRegressor\n",
    "\n",
    "gp = GaussianProcessRegressor(n_restarts_optimizer=10)\n",
    "gp.fit(data, target)\n",
    "target_pred, std = gp.predict(data, return_std=True)\n",
    "\n",
    "plt.figure(figsize = (10, 8))\n",
    "plt.plot(target_pred)\n",
    "plt.plot(target, '--')"
   ]
  },
  {
   "cell_type": "markdown",
   "metadata": {},
   "source": [
    "# References\n",
    "1. "
   ]
  }
 ],
 "metadata": {
  "kernelspec": {
   "display_name": "Python 3",
   "language": "python",
   "name": "python3"
  },
  "language_info": {
   "codemirror_mode": {
    "name": "ipython",
    "version": 3
   },
   "file_extension": ".py",
   "mimetype": "text/x-python",
   "name": "python",
   "nbconvert_exporter": "python",
   "pygments_lexer": "ipython3",
   "version": "3.6.5"
  }
 },
 "nbformat": 4,
 "nbformat_minor": 2
}
